{
  "nbformat": 4,
  "nbformat_minor": 0,
  "metadata": {
    "colab": {
      "provenance": []
    },
    "kernelspec": {
      "name": "python3",
      "display_name": "Python 3"
    },
    "language_info": {
      "name": "python"
    }
  },
  "cells": [
    {
      "cell_type": "markdown",
      "source": [
        "testset1:\n",
        "\"favorite_ingredients\": [\"pasta\", \"tomato\", \"basil\", \"parmesan\", \"olive oil\"],\n",
        "meal_ids_input= \"10, 13, 17, 21, 29\"\n",
        "\n",
        "testset2:\n",
        "\"favorite_ingredients\": [\"chicken\", \"rice\", \"broccoli\", \"garlic\", \"olive oil\"],\n",
        "meal_ids_input= \"1, 3, 7, 15, 22\"\n",
        "\n",
        "testset3:\n",
        "\"favorite_ingredients\": [\"beef\", \"onion\", \"tomato\", \"cheese\", \"spices\"],\n",
        "meal_ids_input= \"2, 5, 9, 18, 30\"\n",
        "\n",
        "testset4:\n",
        "\"favorite_ingredients\": [\"salmon\", \"lemon\", \"asparagus\", \"garlic\", \"butter\"],\n",
        "meal_ids_input= \"4, 8, 12, 16, 25\"\n",
        "\n",
        "testset5:\n",
        "\"favorite_ingredients\": [\"tofu\", \"spinach\", \"soy sauce\", \"ginger\", \"rice\"],\n",
        "meal_ids_input= \"6, 11, 14, 20, 28\""
      ],
      "metadata": {
        "id": "6xSKIIMWtJ8Y"
      }
    },
    {
      "cell_type": "code",
      "source": [
        "#!pip install pandas numpy scikit-surprise\n",
        "\n"
      ],
      "metadata": {
        "collapsed": true,
        "id": "2zGxZ8R1QCDE"
      },
      "execution_count": 1,
      "outputs": []
    },
    {
      "cell_type": "code",
      "source": [
        "import numpy as np\n",
        "from sklearn.metrics.pairwise import cosine_similarity\n",
        "from sklearn.neighbors import NearestNeighbors"
      ],
      "metadata": {
        "id": "EKLQuIzjaRiT"
      },
      "execution_count": 2,
      "outputs": []
    },
    {
      "cell_type": "code",
      "source": [
        "recipes = [\n",
        "    { \"meal_id\" :  1,  \"name\" : \"Chicken Curry\", \"rating\": 5, \"ingredients\": \"chicken, rice, curry\", \"calories\": 500},\n",
        "    { \"meal_id\" :  2,  \"name\" : \"Pasta Primavera\", \"rating\": 4, \"ingredients\": \"pasta, cheese, tomato\", \"calories\": 450},\n",
        "    { \"meal_id\" :  3,  \"name\" : \"Chicken Curry\", \"rating\": 4, \"ingredients\": \"chicken, rice, curry\", \"calories\": 500},\n",
        "    { \"meal_id\" :  4,  \"name\" : \"Tofu Stir-Fry\", \"rating\": 3, \"ingredients\": \"tofu, broccoli, sauce\", \"calories\": 300},\n",
        "    { \"meal_id\" :  5,  \"name\" : \"Grilled Fish Plate\", \"rating\": 5, \"ingredients\": \"fish, potatoes, greens\", \"calories\": 550},\n",
        "    { \"meal_id\" :  6,  \"name\" : \"Beef and Beans Bowl\", \"rating\": 3, \"ingredients\": \"beef, beans, salsa\", \"calories\": 600},\n",
        "    { \"meal_id\" :  7,  \"name\" : \"Spiced Lentils\", \"rating\": 4, \"ingredients\": \"lentils, spinach, spices\", \"calories\": 400},\n",
        "    { \"meal_id\" :  8,  \"name\" : \"Butter and Jam Toast\", \"rating\": 2, \"ingredients\": \"bread, butter, jam\", \"calories\": 250},\n",
        "    { \"meal_id\" :  9,  \"name\" : \"Avocado Toast\", \"rating\": 4, \"ingredients\": \"egg, avocado, toast\", \"calories\": 300},\n",
        "    { \"meal_id\" :  10,  \"name\" : \"Shrimp Noodles\", \"rating\": 5, \"ingredients\": \"noodles, shrimp, soy sauce\", \"calories\": 450},\n",
        "    { \"meal_id\" :  11,  \"name\" : \"Chicken Curry\", \"rating\": 4, \"ingredients\": \"chicken, rice, curry\", \"calories\": 500},\n",
        "    { \"meal_id\" :  12,  \"name\" : \"Salmon and Quinoa\", \"rating\": 5, \"ingredients\": \"salmon, quinoa, asparagus\", \"calories\": 450},\n",
        "    { \"meal_id\" :  13,  \"name\" : \"Pasta Primavera\", \"rating\": 3, \"ingredients\": \"pasta, cheese, tomato\", \"calories\": 450},\n",
        "    { \"meal_id\" :  14,  \"name\" : \"Berry Pancakes\", \"rating\": 2, \"ingredients\": \"pancakes, syrup, berries\", \"calories\": 350},\n",
        "    { \"meal_id\" :  15,  \"name\" : \"Tofu Stir-Fry\", \"rating\": 4, \"ingredients\": \"tofu, broccoli, sauce\", \"calories\": 300},\n",
        "    { \"meal_id\" :  16,  \"name\" : \"Steak Dinner\", \"rating\": 5, \"ingredients\": \"steak, sweet potato, salad\", \"calories\": 650},\n",
        "    { \"meal_id\" :  17,  \"name\" : \"Grilled Fish Plate\", \"rating\": 3, \"ingredients\": \"fish, potatoes, greens\", \"calories\": 550},\n",
        "    { \"meal_id\" :  18,  \"name\" : \"Classic Burger\", \"rating\": 4, \"ingredients\": \"burger, fries, ketchup\", \"calories\": 700},\n",
        "    { \"meal_id\" :  19,  \"name\" : \"Beef and Beans Bowl\", \"rating\": 2, \"ingredients\": \"beef, beans, salsa\", \"calories\": 600},\n",
        "    { \"meal_id\" :  20,  \"name\" : \"Oatmeal Bowl\", \"rating\": 5, \"ingredients\": \"oatmeal, banana, honey\", \"calories\": 300},\n",
        "    { \"meal_id\" :  21,  \"name\" : \"Spiced Lentils\", \"rating\": 3, \"ingredients\": \"lentils, spinach, spices\", \"calories\": 400},\n",
        "    { \"meal_id\" :  22,  \"name\" : \"Butter and Jam Toast\", \"rating\": 4, \"ingredients\": \"bread, butter, jam\", \"calories\": 250},\n",
        "    { \"meal_id\" :  23,  \"name\" : \"Sushi Platter\", \"rating\": 5, \"ingredients\": \"sushi, seaweed, wasabi\", \"calories\": 200},\n",
        "    { \"meal_id\" :  24,  \"name\" : \"Avocado Toast\", \"rating\": 5, \"ingredients\": \"egg, avocado, toast\", \"calories\": 300},\n",
        "    { \"meal_id\" :  25,  \"name\" : \"Chicken Pasta\", \"rating\": 3, \"ingredients\": \"chicken, pasta, spinach\", \"calories\": 480},\n",
        "    { \"meal_id\" :  26,  \"name\" : \"Shrimp Noodles\", \"rating\": 4, \"ingredients\": \"noodles, shrimp, soy sauce\", \"calories\": 450},\n",
        "    { \"meal_id\" :  27,  \"name\" : \"Salmon and Quinoa\", \"rating\": 5, \"ingredients\": \"salmon, quinoa, asparagus\", \"calories\": 450},\n",
        "    { \"meal_id\" :  28,  \"name\" : \"Cereal Bowl\", \"rating\": 2, \"ingredients\": \"cereal, milk, sugar\", \"calories\": 200},\n",
        "    { \"meal_id\" :  29,  \"name\" : \"Berry Pancakes\", \"rating\": 3, \"ingredients\": \"pancakes, syrup, berries\", \"calories\": 350},\n",
        "    { \"meal_id\" :  30,  \"name\" : \"Veggie Pizza\", \"rating\": 4, \"ingredients\": \"pizza, cheese, olives\", \"calories\": 600},\n",
        "    { \"meal_id\" :  31,  \"name\" : \"Steak Dinner\", \"rating\": 5, \"ingredients\": \"steak, sweet potato, salad\", \"calories\": 650},\n",
        "    { \"meal_id\" :  32,  \"name\" : \"Greek Salad\", \"rating\": 4, \"ingredients\": \"salad, feta, balsamic\", \"calories\": 200},\n",
        "    { \"meal_id\" :  33,  \"name\" : \"Grilled Fish Plate\", \"rating\": 5, \"ingredients\": \"fish, potatoes, greens\", \"calories\": 550},\n",
        "    { \"meal_id\" :  34,  \"name\" : \"Vegetable Curry\", \"rating\": 3, \"ingredients\": \"curry, naan, yogurt\", \"calories\": 500},\n",
        "    { \"meal_id\" :  35,  \"name\" : \"Classic Burger\", \"rating\": 5, \"ingredients\": \"burger, fries, ketchup\", \"calories\": 700},\n",
        "    { \"meal_id\" :  36,  \"name\" : \"Apple Snack\", \"rating\": 4, \"ingredients\": \"apple, peanut butter\", \"calories\": 200},\n",
        "    { \"meal_id\" :  37,  \"name\" : \"Beef and Beans Bowl\", \"rating\": 4, \"ingredients\": \"beef, beans, salsa\", \"calories\": 600},\n",
        "    { \"meal_id\" :  38,  \"name\" : \"Berry Smoothie\", \"rating\": 3, \"ingredients\": \"smoothie, yogurt, berries\", \"calories\": 350},\n",
        "    { \"meal_id\" :  39,  \"name\" : \"Spiced Lentils\", \"rating\": 5, \"ingredients\": \"lentils, spinach, spices\", \"calories\": 400},\n",
        "    { \"meal_id\" :  40,  \"name\" : \"Fried Rice\", \"rating\": 2, \"ingredients\": \"fried rice, soy sauce\", \"calories\": 450},\n",
        "    { \"meal_id\" :  41,  \"name\" : \"Sushi Platter\", \"rating\": 5, \"ingredients\": \"sushi, seaweed, wasabi\", \"calories\": 200},\n",
        "    { \"meal_id\" :  42,  \"name\" : \"Taco Feast\", \"rating\": 4, \"ingredients\": \"tacos, guacamole, salsa\", \"calories\": 550},\n",
        "    { \"meal_id\" :  43,  \"name\" : \"Chicken Pasta\", \"rating\": 4, \"ingredients\": \"chicken, pasta, spinach\", \"calories\": 480},\n",
        "    { \"meal_id\" :  44,  \"name\" : \"Chicken Curry\", \"rating\": 5, \"ingredients\": \"chicken, rice, curry\", \"calories\": 500},\n",
        "    { \"meal_id\" :  45,  \"name\" : \"Cereal Bowl\", \"rating\": 3, \"ingredients\": \"cereal, milk, sugar\", \"calories\": 200},\n",
        "    { \"meal_id\" :  46,  \"name\" : \"Soup and Bread\", \"rating\": 4, \"ingredients\": \"soup, bread, butter\", \"calories\": 300},\n",
        "    { \"meal_id\" :  47,  \"name\" : \"Veggie Pizza\", \"rating\": 5, \"ingredients\": \"pizza, cheese, olives\", \"calories\": 600},\n",
        "    { \"meal_id\" :  48,  \"name\" : \"Baked Potato\", \"rating\": 3, \"ingredients\": \"baked potato, sour cream\", \"calories\": 400},\n",
        "    { \"meal_id\" :  49,  \"name\" : \"Vegetable Curry\", \"rating\": 5, \"ingredients\": \"curry, naan, yogurt\", \"calories\": 500},\n",
        "    { \"meal_id\" :  50,  \"name\" : \"Apple Snack\", \"rating\": 4, \"ingredients\": \"apple, peanut butter\", \"calories\": 200}\n",
        "]\n"
      ],
      "metadata": {
        "id": "z2FjULLnQFVl"
      },
      "execution_count": 3,
      "outputs": []
    },
    {
      "cell_type": "code",
      "source": [
        "user_meals = [\n",
        "\n",
        "\n",
        "    {\"user_id\": 2, \"meal_id\": 32, \"rating\": 5},\n",
        "    {\"user_id\": 3, \"meal_id\": 7, \"rating\": 3},\n",
        "    {\"user_id\": 4, \"meal_id\": 19, \"rating\": 2},\n",
        "    {\"user_id\": 5, \"meal_id\": 28, \"rating\": 5},\n",
        "    {\"user_id\": 6, \"meal_id\": 42, \"rating\": 3},\n",
        "    {\"user_id\": 7, \"meal_id\": 36, \"rating\": 4},\n",
        "    {\"user_id\": 8, \"meal_id\": 11, \"rating\": 5},\n",
        "    {\"user_id\": 9, \"meal_id\": 29, \"rating\": 4},\n",
        "    {\"user_id\": 10, \"meal_id\": 50, \"rating\": 5},\n",
        "\n",
        "    {\"user_id\": 2, \"meal_id\": 9, \"rating\": 5},\n",
        "    {\"user_id\": 3, \"meal_id\": 43, \"rating\": 2},\n",
        "    {\"user_id\": 4, \"meal_id\": 12, \"rating\": 4},\n",
        "    {\"user_id\": 5, \"meal_id\": 27, \"rating\": 5},\n",
        "    {\"user_id\": 6, \"meal_id\": 4, \"rating\": 3},\n",
        "    {\"user_id\": 7, \"meal_id\": 37, \"rating\": 4},\n",
        "    {\"user_id\": 8, \"meal_id\": 25, \"rating\": 5},\n",
        "    {\"user_id\": 9, \"meal_id\": 16, \"rating\": 3},\n",
        "    {\"user_id\": 10, \"meal_id\": 14, \"rating\": 4},\n",
        "\n",
        "    {\"user_id\": 2, \"meal_id\": 17, \"rating\": 4},\n",
        "    {\"user_id\": 3, \"meal_id\": 31, \"rating\": 3},\n",
        "    {\"user_id\": 4, \"meal_id\": 23, \"rating\": 5},\n",
        "    {\"user_id\": 5, \"meal_id\": 8, \"rating\": 2},\n",
        "    {\"user_id\": 6, \"meal_id\": 24, \"rating\": 4},\n",
        "    {\"user_id\": 7, \"meal_id\": 44, \"rating\": 5},\n",
        "    {\"user_id\": 8, \"meal_id\": 30, \"rating\": 3},\n",
        "    {\"user_id\": 9, \"meal_id\": 20, \"rating\": 5},\n",
        "    {\"user_id\": 10, \"meal_id\": 18, \"rating\": 4}\n",
        "\n",
        "]"
      ],
      "metadata": {
        "id": "l_4ECM6faxsA"
      },
      "execution_count": 4,
      "outputs": []
    },
    {
      "cell_type": "code",
      "source": [
        "user_preferences = []"
      ],
      "metadata": {
        "id": "orl3E-RggKJk"
      },
      "execution_count": 5,
      "outputs": []
    },
    {
      "cell_type": "code",
      "source": [
        "def get_user_preferences():\n",
        "    print(\"Please enter your dietary restrictions:\")\n",
        "    calories = int(input(\"Max calories per meal: \"))\n",
        "    favorite_ing = input(\"Enter your favorite ingredients (comma-separated): \").split(\", \")\n",
        "\n",
        "    temp_preferenece = {\n",
        "        \"max_calories\": calories,\n",
        "        \"favorite_ingredients\": favorite_ing\n",
        "    }\n",
        "\n",
        "    return temp_preferenece"
      ],
      "metadata": {
        "id": "xL1UuEzHR5U5"
      },
      "execution_count": 6,
      "outputs": []
    },
    {
      "cell_type": "code",
      "source": [
        "def upload_meal_history(user_id):\n",
        "   # print(f\"\\nUser {user_id}, please upload your meal history:\")\n",
        "\n",
        "    # Ask the user for meal IDs as a comma-separated string\n",
        "   # meal_ids_input = input(\"Enter meal IDs separated by commas (e.g., '1, 2, 3'): \") hard coded for test purpose\n",
        "    meal_ids_input= \"10, 13, 17, 21, 29\"\n",
        "\n",
        "    # Ask the user for ratings as a comma-separated string\n",
        "    #ratings_input = input(\"Enter ratings respectively separated by commas (e.g., '5, 4, 3'): \") hard coded for test purpose\n",
        "    ratings_input = \"5,5,5,5,5\"\n",
        "\n",
        "    # Split the input strings into lists\n",
        "    meal_ids = meal_ids_input.split(\",\")\n",
        "    ratings = ratings_input.split(\",\")\n",
        "\n",
        "\n",
        "    # Check if the number of meal IDs and ratings match\n",
        "    if len(meal_ids) != len(ratings):\n",
        "        print(\"Error: The number of meal IDs does not match the number of ratings.\")\n",
        "        return\n",
        "\n",
        "    # Loop through the meal IDs and ratings\n",
        "    for i in range(len(meal_ids)):\n",
        "        try:\n",
        "            # Clean up and convert meal_id and rating to integers\n",
        "            meal_id = int(meal_ids[i].strip())\n",
        "            rating = int(ratings[i].strip())\n",
        "\n",
        "            # Append the meal and rating to the user_meals list\n",
        "            user_meals.append({\n",
        "                \"user_id\": user_id,\n",
        "                \"meal_id\": meal_id,\n",
        "                \"rating\": rating\n",
        "            })\n",
        "\n",
        "          #  print(f\"Meal {meal_id} rated {rating}.\")\n",
        "\n",
        "        except ValueError as e:\n",
        "            print(f\"Error processing meal ID {meal_ids[i]} and rating {ratings[i]}: {e}\")\n",
        "\n",
        "    print(\"\\nYour Favourite Meal history uploaded successfully.\")\n",
        "    return user_meals\n"
      ],
      "metadata": {
        "id": "h5890Wn3S5y5"
      },
      "execution_count": 7,
      "outputs": []
    },
    {
      "cell_type": "code",
      "source": [
        "# Function to convert user meal data into user-item matrix for collaborative filtering\n",
        "def create_user_item_matrix(user_meals, num_users, num_meals):\n",
        "    matrix = np.zeros((num_users, num_meals))\n",
        "    for entry in user_meals:\n",
        "        matrix[entry[\"user_id\"] - 1, entry[\"meal_id\"] - 1] = entry[\"rating\"]\n",
        "    return matrix\n",
        "\n",
        "# Collaborative Filtering: Weighted Cosine Similarity\n",
        "def collaborative_filtering(user_id, user_item_matrix, recipes, favorite_ingredients, weight_ingredient=0.7, weight_rating=0.3):\n",
        "    user_similarity = cosine_similarity(user_item_matrix)\n",
        "    user_index = user_id - 1\n",
        "\n",
        "    # Calculate ingredient match score\n",
        "    ingredient_scores = []\n",
        "    for meal in recipes:\n",
        "        meal_ingredients = set(meal[\"ingredients\"].split(\", \"))\n",
        "        match_count = len(meal_ingredients & set(favorite_ingredients))\n",
        "        ingredient_scores.append(match_count)\n",
        "\n",
        "    # Calculate user similarity and predicted ratings\n",
        "    similarity_scores = user_similarity[user_index]\n",
        "    predicted_ratings = np.dot(similarity_scores, user_item_matrix) / np.sum(similarity_scores)\n",
        "\n",
        "    # Combine predicted rating and ingredient match scores\n",
        "    combined_scores = []\n",
        "    for i in range(len(predicted_ratings)):\n",
        "        combined_score = (weight_rating * predicted_ratings[i]) + (weight_ingredient * ingredient_scores[i])\n",
        "        combined_scores.append(combined_score)\n",
        "\n",
        "    return combined_scores"
      ],
      "metadata": {
        "id": "XIO2Tf7gTGK1"
      },
      "execution_count": 8,
      "outputs": []
    },
    {
      "cell_type": "code",
      "source": [
        "# Hill Climbing Algorithm: Optimize meal suggestions based on calories and ingredients\n",
        "def hill_climbing(user_id, user_preferences, recipes, predicted_scores):\n",
        "    max_calories = user_preferences[0][\"max_calories\"]\n",
        "    favorite_ingredients = set(user_preferences[0][\"favorite_ingredients\"])\n",
        "\n",
        "    print(f\"\\nUser {user_id} Favourite Ingridients: {favorite_ingredients}\")\n",
        "\n",
        "    # Step 1: Select meals based on predicted scores from collaborative filtering\n",
        "    recommended_meals = sorted(zip(predicted_scores, range(len(predicted_scores))), reverse=True)[:1]\n",
        "\n",
        "    # Step 2: Hill climbing: iteratively optimize meal selection\n",
        "    current_meals = []\n",
        "    for score, meal_idx in recommended_meals:\n",
        "        meal = recipes[meal_idx]\n",
        "        meal_ingredients = set(meal[\"ingredients\"].split(\", \"))\n",
        "\n",
        "        # Check if the meal fits the dietary restrictions (calories) and is similar to preferences (ingredients)\n",
        "        if meal[\"calories\"] < max_calories and len(meal_ingredients & favorite_ingredients) > 0:\n",
        "            current_meals.append(meal)\n",
        "\n",
        "    # If no meal is found, return the top-rated meals as fallback\n",
        "    if not current_meals:\n",
        "        current_meals = [recipes[meal_idx] for _, meal_idx in recommended_meals]\n",
        "\n",
        "    return current_meals"
      ],
      "metadata": {
        "id": "IItpUMJibm7I"
      },
      "execution_count": 9,
      "outputs": []
    },
    {
      "cell_type": "code",
      "source": [
        "\n",
        "def simulate_user_input(user_id):\n",
        "    # Step 1: Get dietary preferences\n",
        "   # user_prefs = get_user_preferences() hardcoded for test purpose\n",
        "    user_prefs = {\n",
        "    \"max_calories\": 1000,\n",
        "     \"favorite_ingredients\": [\"pasta\", \"tomato\", \"basil\", \"parmesan\", \"olive oil\"],\n",
        "    }\n",
        "    user_preferences.append(user_prefs)\n",
        "   # print(f\"\\nUser {user_id} Preferences: {user_preferences}\")\n",
        "\n",
        "    upload_meal_history(user_id)\n",
        "\n",
        "\n",
        "# Simulate for user current user taken as user 1\n",
        "simulate_user_input(1)\n",
        "\n",
        "\n",
        "# Step 1: Create the user-item matrix\n",
        "num_users = 10  # Based on the number of unique users in the dataset\n",
        "num_meals = len(recipes)\n",
        "user_item_matrix = create_user_item_matrix(user_meals, num_users, num_meals)\n",
        "\n",
        "# Step 2: Get collaborative filtering recommendations for user 1\n",
        "user_id = 1\n",
        "predicted_scores = collaborative_filtering(user_id, user_item_matrix, recipes, user_preferences[0][\"favorite_ingredients\"])\n",
        "\n",
        "# Step 3: Use Hill Climbing to optimize recommendations based on dietary restrictions and ingredients\n",
        "optimized_meals = hill_climbing(user_id, user_preferences, recipes, predicted_scores)\n",
        "\n",
        "# Display the optimized meal recommendations\n",
        "print(f\"\\nOptimized Meal Recommendations for User {user_id}:\")\n",
        "for meal in optimized_meals:\n",
        "    print(f\"{meal['name']} (Calories: {meal['calories']}, Ingredients: {meal['ingredients']})\")"
      ],
      "metadata": {
        "colab": {
          "base_uri": "https://localhost:8080/"
        },
        "id": "guNFMVPoUUQy",
        "outputId": "3f29f304-03a2-4a88-c13b-c203dc077d31"
      },
      "execution_count": 10,
      "outputs": [
        {
          "output_type": "stream",
          "name": "stdout",
          "text": [
            "\n",
            "Your Favourite Meal history uploaded successfully.\n",
            "\n",
            "User 1 Favourite Ingridients: {'olive oil', 'pasta', 'parmesan', 'tomato', 'basil'}\n",
            "\n",
            "Optimized Meal Recommendations for User 1:\n",
            "Pasta Primavera (Calories: 450, Ingredients: pasta, cheese, tomato)\n"
          ]
        }
      ]
    }
  ]
}